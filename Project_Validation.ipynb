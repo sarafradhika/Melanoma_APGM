{
 "cells": [
  {
   "cell_type": "code",
   "execution_count": 1,
   "metadata": {
    "collapsed": true
   },
   "outputs": [],
   "source": [
    "from pgmpy.models import BayesianModel\n",
    "import pandas as pd\n",
    "import itertools\n",
    "import scipy\n",
    "from scipy import io\n",
    "import numpy as np"
   ]
  },
  {
   "cell_type": "markdown",
   "metadata": {},
   "source": [
    "Load data and graph that was learnt :"
   ]
  },
  {
   "cell_type": "code",
   "execution_count": 2,
   "metadata": {},
   "outputs": [],
   "source": [
    "R = np.loadtxt('expressions.txt')\n",
    "test = pd.DataFrame(data=np.transpose(R))\n",
    "cols = [str(x) for x in test.columns.tolist()]\n",
    "test = pd.DataFrame(data=np.transpose(R),columns = cols)\n",
    "read_concise = np.load('concise_final.npy').item()\n",
    "read_parent = np.load('parents_final.npy').item()"
   ]
  },
  {
   "cell_type": "markdown",
   "metadata": {},
   "source": [
    "Define a network and export the data for plotting:"
   ]
  },
  {
   "cell_type": "code",
   "execution_count": 3,
   "metadata": {
    "collapsed": true
   },
   "outputs": [],
   "source": [
    "G = BayesianModel()\n",
    "\n",
    "G.add_nodes_from(test.columns)\n",
    "\n",
    "pairs = list(itertools.combinations(test.columns, 2))\n",
    "\n",
    "for X in test.columns :\n",
    "        Y = read_parent[X]\n",
    "        if not Y:\n",
    "            continue\n",
    "        else:\n",
    "            G.add_edges_from([(y,X) for y in Y])"
   ]
  },
  {
   "cell_type": "code",
   "execution_count": 4,
   "metadata": {
    "collapsed": true
   },
   "outputs": [],
   "source": [
    "A  = G.adjacency_list()"
   ]
  },
  {
   "cell_type": "code",
   "execution_count": 5,
   "metadata": {
    "collapsed": true
   },
   "outputs": [],
   "source": [
    "adj = np.zeros((len(A),len(A)))\n",
    "Adj = np.zeros((len(A),len(A)))\n",
    "\n",
    "for i in range(0,len(A)):\n",
    "    node = A[i]\n",
    "    for j in range(0,len(node)):\n",
    "        elem = int(node[j])\n",
    "        adj[i][elem] = 1\n",
    "        Adj[i][elem] = A[i][j]  "
   ]
  },
  {
   "cell_type": "code",
   "execution_count": 6,
   "metadata": {
    "collapsed": true
   },
   "outputs": [],
   "source": [
    "a_list = {}\n",
    "a_list['A'] = A\n",
    "a_list['adj'] = adj\n",
    "a_list['Adj'] = Adj"
   ]
  },
  {
   "cell_type": "code",
   "execution_count": 7,
   "metadata": {
    "collapsed": true
   },
   "outputs": [],
   "source": [
    "scipy.io.savemat('a_list',a_list,appendmat=True, format='5', long_field_names=True, do_compression=False, oned_as='column') "
   ]
  },
  {
   "cell_type": "markdown",
   "metadata": {},
   "source": [
    "Marginalize the additional nodes:"
   ]
  },
  {
   "cell_type": "code",
   "execution_count": 8,
   "metadata": {
    "collapsed": true
   },
   "outputs": [],
   "source": [
    "labels = test.columns\n",
    "G.remove_node(labels[0])\n",
    "G.remove_node(labels[6])\n",
    "G.remove_node(labels[7])\n",
    "G.remove_node(labels[8])\n",
    "G.remove_node(labels[9])\n",
    "G.remove_node(labels[10])\n",
    "G.remove_node(labels[12])\n",
    "G.remove_node(labels[13])\n",
    "G.remove_node(labels[16])\n",
    "G.remove_node(labels[17])\n",
    "G.remove_node(labels[18])\n",
    "G.remove_node(labels[20])\n",
    "G.remove_node(labels[23])\n",
    "G.remove_node(labels[25])\n",
    "G.remove_node(labels[26])\n",
    "G.remove_node(labels[27])\n",
    "G.remove_node(labels[29])\n",
    "G.remove_node(labels[30])\n",
    "G.remove_node(labels[31])\n",
    "G.remove_node(labels[37])\n",
    "G.remove_node(labels[46])\n",
    "G.remove_node(labels[50])\n",
    "G.remove_node(labels[51])\n",
    "G.remove_node(labels[53])\n",
    "G.remove_node(labels[55])\n",
    "G.remove_node(labels[61])\n",
    "G.remove_node(labels[62])\n",
    "G.remove_node(labels[63])\n",
    "G.remove_node(labels[65])\n",
    "G.remove_node(labels[67])\n",
    "G.remove_node(labels[68])\n",
    "G.remove_node(labels[71])\n",
    "G.remove_node(labels[72])"
   ]
  },
  {
   "cell_type": "code",
   "execution_count": 9,
   "metadata": {
    "collapsed": true
   },
   "outputs": [],
   "source": [
    "B = G.adjacency_list()"
   ]
  },
  {
   "cell_type": "code",
   "execution_count": 10,
   "metadata": {
    "collapsed": true
   },
   "outputs": [],
   "source": [
    "C = []\n",
    "for element in A:\n",
    "    C.append([])"
   ]
  },
  {
   "cell_type": "code",
   "execution_count": 11,
   "metadata": {
    "collapsed": true
   },
   "outputs": [],
   "source": [
    "# Since the original network had 77 nodes, this is sort of a change of origin equivalent for the adjacency list\n",
    "C[1]=B[0]\n",
    "C[2]=B[1]\n",
    "C[3]=B[2]\n",
    "C[4]=B[3]\n",
    "C[5]=B[4]\n",
    "C[11]=B[5]\n",
    "C[14]=B[6]\n",
    "C[15]=B[7]\n",
    "C[19]=B[8]\n",
    "C[21]=B[9]\n",
    "C[22]=B[10]\n",
    "C[24]=B[11]\n",
    "C[28]=B[12]\n",
    "C[32]=B[13]\n",
    "C[33]=B[14]\n",
    "C[34]=B[15]\n",
    "C[35]=B[16]\n",
    "C[36]=B[17]\n",
    "C[38]=B[18]\n",
    "C[39]=B[19]\n",
    "C[40]=B[20]\n",
    "C[41]=B[21]\n",
    "C[42]=B[22]\n",
    "C[43]=B[23]\n",
    "C[44]=B[24]\n",
    "C[45]=B[25]\n",
    "C[47]=B[26]\n",
    "C[48]=B[27]\n",
    "C[49]=B[28]\n",
    "C[52]=B[29]\n",
    "C[54]=B[30]\n",
    "C[56]=B[31]\n",
    "C[57]=B[32]\n",
    "C[58]=B[33]\n",
    "C[59]=B[34]\n",
    "C[60]=B[35]\n",
    "C[64]=B[36]\n",
    "C[66]=B[37]\n",
    "C[69]=B[38]\n",
    "C[70]=B[39]\n",
    "C[73]=B[40]\n",
    "C[74]=B[41]\n",
    "C[75]=B[42]\n",
    "C[76]=B[43]"
   ]
  },
  {
   "cell_type": "markdown",
   "metadata": {},
   "source": [
    "Save the adjacency list of the structure that was learnt by the program:"
   ]
  },
  {
   "cell_type": "code",
   "execution_count": 12,
   "metadata": {
    "collapsed": true
   },
   "outputs": [],
   "source": [
    "adj = np.zeros((len(C),len(C)))\n",
    "Adj = np.zeros((len(C),len(C)))\n",
    "\n",
    "for i in range(0,len(C)):\n",
    "    node = C[i]\n",
    "    for j in range(0,len(node)):\n",
    "        elem = int(node[j])\n",
    "        adj[i][elem] = 1\n",
    "        Adj[i][elem] = C[i][j]  \n",
    "\n",
    "adj_test = adj"
   ]
  },
  {
   "cell_type": "code",
   "execution_count": 13,
   "metadata": {
    "collapsed": true
   },
   "outputs": [],
   "source": [
    "a_list = {}\n",
    "a_list['A'] = C\n",
    "a_list['adj'] = adj\n",
    "a_list['Adj'] = Adj"
   ]
  },
  {
   "cell_type": "code",
   "execution_count": 14,
   "metadata": {
    "collapsed": true
   },
   "outputs": [],
   "source": [
    "scipy.io.savemat('a_list_new',a_list,appendmat=True, format='5', long_field_names=True, do_compression=False, oned_as='column') "
   ]
  },
  {
   "cell_type": "markdown",
   "metadata": {},
   "source": [
    "Define the truth from the KEGG database :"
   ]
  },
  {
   "cell_type": "code",
   "execution_count": 15,
   "metadata": {
    "collapsed": true
   },
   "outputs": [],
   "source": [
    "#truth = [[1,28,43],[],[],[18],[2],[],[],[],[5,42],[10,24],[12,37],[4],[29],[14,15],[16,12,37,38],\n",
    "       #  [17,12,37,38],[31],[],[23],[25],[25],[19,20],[25],[26,1,39],[12,37],[],[42],[],[1,39],\n",
    "       #  [31,21,3],[0],[33,3],[33],[30],[],[33,0],[],[29],[],[8],[22,4],[22,36,4],[6,7],[]]"
   ]
  },
  {
   "cell_type": "code",
   "execution_count": 16,
   "metadata": {
    "collapsed": true
   },
   "outputs": [],
   "source": [
    "truth = [[2,49,76],[],[],[38],[3],[],[],[],[11,75],[22,44],[28,66],[5],[52],[33,34],[35,28,66,69],[36,28,66,69],\n",
    "[56],[],[43],[45],[45],[39,40],[45],[47,70,2],[28,66],[],[75],[],[2,70],[56,41,4],[1],[58,4],[58],[54],[],[58,1],\n",
    "[],[52],[],[19],[42,5],[42,64,5],[14,15],[]]"
   ]
  },
  {
   "cell_type": "code",
   "execution_count": 17,
   "metadata": {
    "collapsed": true
   },
   "outputs": [],
   "source": [
    "C = []\n",
    "for element in A:\n",
    "    C.append([])"
   ]
  },
  {
   "cell_type": "code",
   "execution_count": 18,
   "metadata": {
    "collapsed": true
   },
   "outputs": [],
   "source": [
    "C[1]=truth[0]\n",
    "C[2]=truth[1]\n",
    "C[3]=truth[2]\n",
    "C[4]=truth[3]\n",
    "C[5]=truth[4]\n",
    "C[11]=truth[5]\n",
    "C[14]=truth[6]\n",
    "C[15]=truth[7]\n",
    "C[19]=truth[8]\n",
    "C[21]=truth[9]\n",
    "C[22]=truth[10]\n",
    "C[24]=truth[11]\n",
    "C[28]=truth[12]\n",
    "C[32]=truth[13]\n",
    "C[33]=truth[14]\n",
    "C[34]=truth[15]\n",
    "C[35]=truth[16]\n",
    "C[36]=truth[17]\n",
    "C[38]=truth[18]\n",
    "C[39]=truth[19]\n",
    "C[40]=truth[20]\n",
    "C[41]=truth[21]\n",
    "C[42]=truth[22]\n",
    "C[43]=truth[23]\n",
    "C[44]=truth[24]\n",
    "C[45]=truth[25]\n",
    "C[47]=truth[26]\n",
    "C[48]=truth[27]\n",
    "C[49]=truth[28]\n",
    "C[52]=truth[29]\n",
    "C[54]=truth[30]\n",
    "C[56]=truth[31]\n",
    "C[57]=truth[32]\n",
    "C[58]=truth[33]\n",
    "C[59]=truth[34]\n",
    "C[60]=truth[35]\n",
    "C[64]=truth[36]\n",
    "C[66]=truth[37]\n",
    "C[69]=truth[38]\n",
    "C[70]=truth[39]\n",
    "C[73]=truth[40]\n",
    "C[74]=truth[41]\n",
    "C[75]=truth[42]\n",
    "C[76]=truth[43]"
   ]
  },
  {
   "cell_type": "code",
   "execution_count": 19,
   "metadata": {
    "collapsed": true
   },
   "outputs": [],
   "source": [
    "adj = np.zeros((len(C),len(C)))\n",
    "Adj = np.zeros((len(C),len(C)))\n",
    "\n",
    "for i in range(0,len(C)):\n",
    "    node = C[i]\n",
    "    for j in range(0,len(node)):\n",
    "        elem = int(node[j])\n",
    "        adj[i][elem] = 1\n",
    "        Adj[i][elem] = C[i][j] \n",
    "\n",
    "adj_true = adj"
   ]
  },
  {
   "cell_type": "code",
   "execution_count": 20,
   "metadata": {
    "collapsed": true
   },
   "outputs": [],
   "source": [
    "a_list = {}\n",
    "a_list['A'] = truth\n",
    "a_list['adj'] = adj\n",
    "a_list['Adj'] = Adj"
   ]
  },
  {
   "cell_type": "code",
   "execution_count": 21,
   "metadata": {
    "collapsed": true
   },
   "outputs": [],
   "source": [
    "scipy.io.savemat('a_list_truth',a_list,appendmat=True, format='5', long_field_names=True, do_compression=False, oned_as='column') "
   ]
  },
  {
   "cell_type": "markdown",
   "metadata": {},
   "source": [
    "# Validation"
   ]
  },
  {
   "cell_type": "code",
   "execution_count": 22,
   "metadata": {
    "collapsed": true
   },
   "outputs": [],
   "source": [
    "true = np.asarray(adj_true).reshape(-1)\n",
    "pred = np.asarray(adj_test).reshape(-1)"
   ]
  },
  {
   "cell_type": "code",
   "execution_count": 23,
   "metadata": {
    "scrolled": true
   },
   "outputs": [
    {
     "name": "stdout",
     "output_type": "stream",
     "text": [
      "[ 0.         0.0030654  1.       ]\n",
      "[ 0.  0.  1.]\n",
      "[ 2.  1.  0.]\n"
     ]
    },
    {
     "data": {
      "image/png": "[encoded data removed]",
      "text/plain": [
       "<matplotlib.figure.Figure at 0x111af4810>"
      ]
     },
     "metadata": {},
     "output_type": "display_data"
    }
   ],
   "source": [
    "from sklearn import metrics\n",
    "import matplotlib.pyplot as plt\n",
    "\n",
    "fp, tp, thresholds = metrics.roc_curve(true, pred,drop_intermediate=False)\n",
    "\n",
    "print(fp)\n",
    "print(tp)\n",
    "print(thresholds)\n",
    "\n",
    "plt.plot(fp,tp)\n",
    "plt.xlabel('FPR')\n",
    "plt.ylabel('TPR')\n",
    "plt.show()"
   ]
  },
  {
   "cell_type": "code",
   "execution_count": 24,
   "metadata": {
    "collapsed": true
   },
   "outputs": [],
   "source": [
    "true_skeleton = {}\n",
    "true_skel = {}\n",
    "\n",
    "for i in range(0,len(adj_true)):\n",
    "    I = str(i)\n",
    "    for j in range(0,len(adj_true)):\n",
    "        J = str(j)\n",
    "        true_skeleton[i,j] = adj_true[i][j]\n",
    "        true_skel[I,J] =  adj_true[i][j]\n",
    "        \n",
    "test_skeleton = {}\n",
    "test_skel = {}\n",
    "\n",
    "for i in range(0,len(adj_test)):\n",
    "    I = str(i)\n",
    "    for j in range(0,len(adj_test)):\n",
    "        J = str(j)\n",
    "        test_skeleton[i,j] = adj_test[i][j]\n",
    "        test_skel[I,J] =  adj_test[i][j]"
   ]
  },
  {
   "cell_type": "code",
   "execution_count": 25,
   "metadata": {},
   "outputs": [
    {
     "name": "stdout",
     "output_type": "stream",
     "text": [
      "('tp', 0, 'fp', 18, 'tn', 5854, 'fn', 57)\n"
     ]
    }
   ],
   "source": [
    "tp = 0\n",
    "fp = 0\n",
    "fn = 0\n",
    "tn = 0\n",
    "\n",
    "for (X,Y) in true_skeleton:\n",
    "    if true_skeleton[X,Y] == 1 and test_skeleton[X,Y] == 1:\n",
    "        tp += 1\n",
    "    if true_skeleton[X,Y] == 1 and test_skeleton[X,Y] == 0:\n",
    "        fn += 1\n",
    "    if true_skeleton[X,Y] == 0 and test_skeleton[X,Y] == 0:\n",
    "        tn += 1\n",
    "    if true_skeleton[X,Y] == 0 and test_skeleton[X,Y]== 1:\n",
    "        fp += 1\n",
    "print('tp',tp,'fp',fp,'tn',tn,'fn',fn)"
   ]
  },
  {
   "cell_type": "code",
   "execution_count": 26,
   "metadata": {
    "collapsed": true
   },
   "outputs": [],
   "source": [
    "np.save('true_skeleton.npy', true_skel) \n",
    "np.save('test_skeleton.npy', test_skel) "
   ]
  },
  {
   "cell_type": "code",
   "execution_count": null,
   "metadata": {
    "collapsed": true
   },
   "outputs": [],
   "source": []
  }
 ],
 "metadata": {
  "kernelspec": {
   "display_name": "Python 2",
   "language": "python",
   "name": "python2"
  },
  "language_info": {
   "codemirror_mode": {
    "name": "ipython",
    "version": 2
   },
   "file_extension": ".py",
   "mimetype": "text/x-python",
   "name": "python",
   "nbconvert_exporter": "python",
   "pygments_lexer": "ipython2",
   "version": "2.7.13"
  }
 },
 "nbformat": 4,
 "nbformat_minor": 2
}
